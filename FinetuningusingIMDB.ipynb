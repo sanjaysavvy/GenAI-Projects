{
 "cells": [
  {
   "cell_type": "code",
   "execution_count": null,
   "metadata": {
    "colab": {
     "base_uri": "https://localhost:8080/"
    },
    "id": "eKH9kwLK8UmP",
    "outputId": "a15ea9db-6e65-48cc-bb13-629e81522770"
   },
   "outputs": [],
   "source": [
    "!pip install datasets transformers"
   ]
  },
  {
   "cell_type": "code",
   "execution_count": null,
   "metadata": {
    "id": "nhgldbpj9PDp"
   },
   "outputs": [],
   "source": [
    "!rm -rf ~/.cache/huggingface/datasets"
   ]
  },
  {
   "cell_type": "code",
   "execution_count": null,
   "metadata": {
    "colab": {
     "base_uri": "https://localhost:8080/"
    },
    "id": "mS556iBM9cER",
    "outputId": "16ae02fb-8c0e-469a-8790-2fd2f317304d"
   },
   "outputs": [],
   "source": [
    "!pip install -U datasets fsspec"
   ]
  },
  {
   "cell_type": "code",
   "execution_count": null,
   "metadata": {
    "colab": {
     "base_uri": "https://localhost:8080/"
    },
    "id": "63wzX55x9X53",
    "outputId": "c89626b3-0cb4-4893-de2c-29ea37fc55d2"
   },
   "outputs": [],
   "source": [
    "!pip show datasets fsspec"
   ]
  },
  {
   "cell_type": "code",
   "execution_count": null,
   "metadata": {
    "colab": {
     "base_uri": "https://localhost:8080/",
     "height": 240,
     "referenced_widgets": [
      "35b553787e324760aed720205795e617",
      "186dd6fb94bd48169146798f991048fb",
      "c148f81bc08e40c7bfb0b4c458bf138a",
      "083b63d42b474ce1b0281a48c83b8cb4",
      "30af57ad9f3a4958931b84edfe2449b1",
      "75e2699bebab4f39b02e9c7ebe709f86",
      "e97dc5bce76a4596b758a10dca032b70",
      "f980e56a568d4d5aa451220473653a0f",
      "890e8e9c9a3c44089a215ffd56fc958c",
      "ee29faa70bec48228292df8890c2dd6b",
      "adf0417d5a6146ae888aeed1db9accbd",
      "8412c5a45d9a40ee9e22a5f5fea12c1f",
      "32f24aff34a64a29bdca2ad2094c8b5f",
      "cee106d1fba444db936947218c37f052",
      "5dab9fcc9dc947bdad3a57927d08838d",
      "48656bc23e414132b78951dc9e3e06d2",
      "2b02402d764242d5bfc31052e9d35fe9",
      "f18aee65fc5f41de83225ee0473d73b6",
      "6352eab0ea5a49f4ae679c7ccde577af",
      "50dba558b095491d8c9ad78bb24296ea",
      "723f0465166445bbbe2e5f9577c5c487",
      "4db396464d8a4b4495e3ade97c90fdb9",
      "48637b03e8b549f8883d165bf559eaf1",
      "36bdcaf77b4c43d39df1740ef7bcba18",
      "51bd4942c188401b928ea75d692f6ce8",
      "a8951eb428584e39a4e6ce0f4ed83416",
      "a0d3d3392cfb466ab32af8d9a7dd0077",
      "f35bd9fec65c4f6c85c62d6bceca4fa7",
      "9bffd998366a407d93042e27f67e2bef",
      "6a67af30da854412bfb75c37d40c7d97",
      "da7223ae60cf4763b37a0ba52e1e57cd",
      "6b1dc2f9a5da47348e95e747027942f2",
      "3378007972b647d1ad847157d0249e8d"
     ]
    },
    "id": "ti_h-hH08wjA",
    "outputId": "f826e727-0dc9-4d78-c95d-07b9d24c8bf1"
   },
   "outputs": [],
   "source": [
    "from datasets import load_dataset\n",
    "dataset = load_dataset('imdb')"
   ]
  },
  {
   "cell_type": "code",
   "execution_count": null,
   "metadata": {
    "colab": {
     "base_uri": "https://localhost:8080/"
    },
    "id": "nAUPZcnL84H4",
    "outputId": "d236772f-b5e8-4d21-fbb3-80b4dc45b68f"
   },
   "outputs": [],
   "source": [
    "dataset"
   ]
  },
  {
   "cell_type": "code",
   "execution_count": null,
   "metadata": {
    "colab": {
     "base_uri": "https://localhost:8080/",
     "height": 1000,
     "referenced_widgets": [
      "5a0d765269994794b97e14d529b88b58",
      "cb0c283d41a3465394fa78c610910948",
      "d428517226604c9dbca81a6f8e3370ed",
      "7af6a8530cf64e56b940e3bb31863df9",
      "490a6a602768473a87afd79672da05f8",
      "742436b2885a4576bf16175cbaa7f852",
      "7f0373525aa24ee09af7359bf39a780f",
      "ac2bdc5da49e467a8c5ab9e75a1238cd",
      "44ff191a66cb46e68bd0d6bbb0e08edd",
      "61eea7bb7ae44a9b89e64ce35ca22999",
      "65e03d8430c547c28c6fa28a9e96fed2"
     ]
    },
    "id": "FIRdjUOk9_yu",
    "outputId": "85aa1629-e76d-4626-807a-52a873ef4e0d"
   },
   "outputs": [],
   "source": [
    "from transformers import AutoTokenizer\n",
    "\n",
    "tokenizer = AutoTokenizer.from_pretrained('bert-base-cased')\n",
    "\n",
    "def tokenize_function(example):\n",
    "  return tokenizer(example['text'], padding='max_length', truncation=True)\n",
    "\n",
    "tokenized_dataset = dataset.map(tokenize_function,batched=True)\n",
    "print(tokenized_dataset)"
   ]
  },
  {
   "cell_type": "code",
   "execution_count": null,
   "metadata": {
    "id": "YF0kopBg-T8O"
   },
   "outputs": [],
   "source": [
    "from transformers import TrainingArguments\n",
    "\n",
    "args = TrainingArguments(\n",
    "    eval_strategy=\"epoch\",\n",
    "    per_device_train_batch_size=16,\n",
    "    per_device_eval_batch_size=16,\n",
    "    num_train_epochs=5,\n",
    "    weight_decay=0.01,\n",
    "    output_dir='./results'\n",
    ")\n"
   ]
  },
  {
   "cell_type": "code",
   "execution_count": null,
   "metadata": {
    "id": "G8dGizZy_7jX"
   },
   "outputs": [],
   "source": [
    "from transformers import Trainer,AutoModelForSequenceClassification\n",
    "\n",
    "model = AutoModelForSequenceClassification.from_pretrained('bert-base-cased',num_labels=2)"
   ]
  },
  {
   "cell_type": "code",
   "execution_count": null,
   "metadata": {
    "id": "zX20xotFAFyF"
   },
   "outputs": [],
   "source": [
    "trainer = Trainer(\n",
    "    model=model,\n",
    "    args=args,\n",
    "    train_dataset=tokenized_dataset['train'],\n",
    "    eval_dataset=tokenized_dataset['test']\n",
    ")"
   ]
  },
  {
   "cell_type": "code",
   "execution_count": null,
   "metadata": {
    "id": "0BB-J3msAHkA"
   },
   "outputs": [],
   "source": [
    "trainer.train()"
   ]
  }
 ],
 "metadata": {
  "colab": {
   "provenance": []
  },
  "kernelspec": {
   "display_name": "Python 3",
   "name": "python3"
  },
  "language_info": {
   "name": "python"
  }
 },
 "nbformat": 4,
 "nbformat_minor": 0
}
