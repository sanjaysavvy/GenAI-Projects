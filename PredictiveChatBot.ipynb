{
 "cells": [
  {
   "cell_type": "code",
   "execution_count": null,
   "metadata": {
    "colab": {
     "base_uri": "https://localhost:8080/",
     "height": 710
    },
    "id": "QrfUOcZPfYnQ",
    "outputId": "1f7ca361-02bd-43ba-e4c6-41dcb2a88e3b"
   },
   "outputs": [],
   "source": [
    "import pandas as pd\n",
    "import random\n",
    "import uuid\n",
    "import datetime\n",
    "\n",
    "\n",
    "intents = [\n",
    "    \"greet\", \"set_reminder\", \"check_reminder\", \"ask_weather\", \"play_music\",\n",
    "    \"turn_on_lights\", \"turn_off_lights\", \"get_news\", \"set_alarm\", \"bye\"\n",
    "]\n",
    "\n",
    "\n",
    "intent_examples = {\n",
    "    \"greet\": [\"Hello\", \"Hi\", \"Hey there\", \"Good morning\", \"Yo!\"],\n",
    "    \"set_reminder\": [\"Remind me to drink water\", \"Set a reminder for meeting\", \"Remind me at 6pm\"],\n",
    "    \"check_reminder\": [\"What are my reminders?\", \"Do I have any reminders?\", \"Reminders for today?\"],\n",
    "    \"ask_weather\": [\"What's the weather?\", \"Will it rain today?\", \"Weather update please\"],\n",
    "    \"play_music\": [\"Play some music\", \"Play relaxing songs\", \"Start my playlist\"],\n",
    "    \"turn_on_lights\": [\"Turn on the lights\", \"Lights on\", \"Switch on bedroom lights\"],\n",
    "    \"turn_off_lights\": [\"Turn off the lights\", \"Lights off\", \"Switch off all lights\"],\n",
    "    \"get_news\": [\"Tell me the news\", \"What's in the news today?\", \"News update\"],\n",
    "    \"set_alarm\": [\"Set an alarm for 7am\", \"Wake me up at 6\", \"Alarm at 5:30am\"],\n",
    "    \"bye\": [\"Bye\", \"See you\", \"Thanks, goodbye\"]\n",
    "}\n",
    "\n",
    "data = []\n",
    "\n",
    "\n",
    "for user in range(100):\n",
    "    user_id = str(uuid.uuid4())\n",
    "    last_intent = None\n",
    "    timestamp = datetime.datetime.now() - datetime.timedelta(days=random.randint(0, 30))\n",
    "\n",
    "    for _ in range(10):\n",
    "        intent = random.choice(intents)\n",
    "        message = random.choice(intent_examples[intent])\n",
    "        context = last_intent if last_intent else \"none\"\n",
    "        last_intent = intent\n",
    "\n",
    "        data.append({\n",
    "            \"user_id\": user_id,\n",
    "            \"timestamp\": timestamp.strftime(\"%Y-%m-%d %H:%M:%S\"),\n",
    "            \"message\": message,\n",
    "            \"intent\": intent,\n",
    "            \"prev_intent\": context\n",
    "        })\n",
    "\n",
    "\n",
    "        timestamp += datetime.timedelta(minutes=random.randint(1, 120))\n",
    "\n",
    "df = pd.DataFrame(data)\n",
    "df.to_csv(\"synthetic_user_chats.csv\", index=False)\n",
    "df.head(10)"
   ]
  },
  {
   "cell_type": "code",
   "execution_count": null,
   "metadata": {
    "colab": {
     "base_uri": "https://localhost:8080/",
     "height": 380
    },
    "id": "wjWYNjf7fm57",
    "outputId": "1f88bbb4-057f-400b-e863-11040787e3f4"
   },
   "outputs": [],
   "source": [
    "df.tail()"
   ]
  },
  {
   "cell_type": "code",
   "execution_count": null,
   "metadata": {
    "colab": {
     "base_uri": "https://localhost:8080/"
    },
    "id": "w5cHBJTrfuZY",
    "outputId": "0d0294af-a752-4d3f-cfbc-38e3385351c9"
   },
   "outputs": [],
   "source": [
    "df[\"timestamp\"] = pd.to_datetime(df[\"timestamp\"])\n",
    "\n",
    "df = df.sort_values(by=[\"user_id\", \"timestamp\"])\n",
    "\n",
    "\n",
    "print(df[\"intent\"].value_counts())\n",
    "print(df[\"prev_intent\"].value_counts())"
   ]
  },
  {
   "cell_type": "code",
   "execution_count": null,
   "metadata": {
    "colab": {
     "base_uri": "https://localhost:8080/",
     "height": 681
    },
    "id": "VW55HhIogA3t",
    "outputId": "e82452ea-3d28-43d3-ca8f-19a7f15e58e6"
   },
   "outputs": [],
   "source": [
    "import seaborn as sns\n",
    "import matplotlib.pyplot as plt\n",
    "\n",
    "\n",
    "transitions = df.groupby(\"user_id\", group_keys=False).apply(\n",
    "    lambda x: list(zip(x[\"prev_intent\"], x[\"intent\"]))\n",
    ").explode()\n",
    "\n",
    "\n",
    "transitions = transitions.dropna().reset_index(drop=True)\n",
    "\n",
    "\n",
    "transition_df = transitions.apply(pd.Series)\n",
    "transition_df.columns = [\"from\", \"to\"]\n",
    "\n",
    "transition_df = transition_df.value_counts().reset_index()\n",
    "transition_df.columns = [\"from\", \"to\", \"count\"]\n",
    "\n",
    "\n",
    "pivot = transition_df.pivot(index=\"from\", columns=\"to\", values=\"count\").fillna(0)\n",
    "\n",
    "import seaborn as sns\n",
    "import matplotlib.pyplot as plt\n",
    "\n",
    "plt.figure(figsize=(10, 8))\n",
    "sns.heatmap(pivot, annot=True, fmt=\".0f\", cmap=\"YlGnBu\")\n",
    "plt.title(\"🌀 Intent Transition Matrix\")\n",
    "plt.xlabel(\"Next Intent\")\n",
    "plt.ylabel(\"Previous Intent\")\n",
    "plt.show()"
   ]
  },
  {
   "cell_type": "code",
   "execution_count": null,
   "metadata": {
    "id": "sDS9uCe9g1xo"
   },
   "outputs": [],
   "source": [
    "from sklearn.preprocessing import LabelEncoder\n",
    "\n",
    "le = LabelEncoder()\n",
    "df[\"intent_token\"] = le.fit_transform(df[\"intent\"])"
   ]
  },
  {
   "cell_type": "code",
   "execution_count": null,
   "metadata": {
    "colab": {
     "base_uri": "https://localhost:8080/"
    },
    "id": "hVCEYP6dhRDL",
    "outputId": "6dc20453-b36e-41e1-e684-0c351cb82b61"
   },
   "outputs": [],
   "source": [
    "print(le.classes_)"
   ]
  },
  {
   "cell_type": "code",
   "execution_count": null,
   "metadata": {
    "id": "Y3gJOktvhT-D"
   },
   "outputs": [],
   "source": [
    "sequences = []\n",
    "\n",
    "\n",
    "for uid, group in df.groupby(\"user_id\"):\n",
    "    tokens = group[\"intent_token\"].tolist()\n",
    "\n",
    "    for i in range(1, len(tokens)):\n",
    "        sequences.append((tokens[:i], tokens[i]))"
   ]
  },
  {
   "cell_type": "code",
   "execution_count": null,
   "metadata": {
    "colab": {
     "base_uri": "https://localhost:8080/"
    },
    "id": "BQeVg2vdhX4k",
    "outputId": "60305312-e597-4e6a-ff9e-f0490db7db3d"
   },
   "outputs": [],
   "source": [
    "for x in sequences[:5]:\n",
    "    print(x)"
   ]
  },
  {
   "cell_type": "code",
   "execution_count": null,
   "metadata": {
    "colab": {
     "base_uri": "https://localhost:8080/"
    },
    "id": "Hq_JPxbAhafY",
    "outputId": "bf723b7a-b124-4929-ecc6-710de0f1a15d"
   },
   "outputs": [],
   "source": [
    "from torch.nn.utils.rnn import pad_sequence\n",
    "import torch\n",
    "\n",
    "X_seq = [torch.tensor(x, dtype=torch.long) for x, y in sequences]\n",
    "y_seq = torch.tensor([y for x, y in sequences], dtype=torch.long)\n",
    "\n",
    "\n",
    "X_padded = pad_sequence(X_seq, batch_first=True, padding_value=0)\n",
    "\n",
    "print(X_padded.shape)\n",
    "print(y_seq.shape)"
   ]
  },
  {
   "cell_type": "code",
   "execution_count": null,
   "metadata": {
    "id": "56en0TM1hdX_"
   },
   "outputs": [],
   "source": [
    "import torch.nn as nn\n",
    "\n",
    "class IntentPredictor(nn.Module):\n",
    "    def __init__(self, vocab_size, d_model=64, nhead=4, num_layers=2):\n",
    "        super().__init__()\n",
    "        self.embedding = nn.Embedding(vocab_size, d_model)\n",
    "        self.pos_encoder = nn.Embedding(100, d_model)\n",
    "        encoder_layer = nn.TransformerEncoderLayer(d_model=d_model, nhead=nhead)\n",
    "        self.transformer = nn.TransformerEncoder(encoder_layer, num_layers=num_layers)\n",
    "        self.fc = nn.Linear(d_model, vocab_size)\n",
    "\n",
    "    def forward(self, x):\n",
    "        pos = torch.arange(x.size(1), device=x.device).unsqueeze(0)\n",
    "        x = self.embedding(x) + self.pos_encoder(pos)\n",
    "        x = self.transformer(x)\n",
    "        x = x[:, -1, :]  # Last time step\n",
    "        return self.fc(x)"
   ]
  },
  {
   "cell_type": "code",
   "execution_count": null,
   "metadata": {
    "colab": {
     "base_uri": "https://localhost:8080/"
    },
    "id": "S0EdjCu4hfzM",
    "outputId": "ee402ff4-a739-4ad9-932f-65bff79ba34d"
   },
   "outputs": [],
   "source": [
    "model = IntentPredictor(vocab_size=len(le.classes_))\n",
    "criterion = nn.CrossEntropyLoss()\n",
    "optimizer = torch.optim.Adam(model.parameters(), lr=1e-3)\n",
    "\n",
    "epochs = 10\n",
    "for epoch in range(epochs):\n",
    "    model.train()\n",
    "    out = model(X_padded)\n",
    "    loss = criterion(out, y_seq)\n",
    "    loss.backward()\n",
    "    optimizer.step()\n",
    "    optimizer.zero_grad()\n",
    "    print(f\"Epoch {epoch+1}, Loss: {loss.item():.4f}\")"
   ]
  },
  {
   "cell_type": "code",
   "execution_count": null,
   "metadata": {
    "colab": {
     "base_uri": "https://localhost:8080/"
    },
    "id": "bEYfIBM-hu7L",
    "outputId": "f99ca977-7ce2-41be-fa0a-7cd3ccf609da"
   },
   "outputs": [],
   "source": [
    "test_sequence = [\"greet\", \"ask_weather\"]\n",
    "test_tokens = torch.tensor([le.transform(test_sequence)], dtype=torch.long)\n",
    "\n",
    "with torch.no_grad():\n",
    "    output = model(test_tokens)\n",
    "    pred = torch.argmax(output, dim=1)\n",
    "    print(\"Predicted next intent:\", le.inverse_transform(pred.numpy()))"
   ]
  }
 ],
 "metadata": {
  "colab": {
   "provenance": []
  },
  "kernelspec": {
   "display_name": "Python 3",
   "name": "python3"
  },
  "language_info": {
   "name": "python"
  }
 },
 "nbformat": 4,
 "nbformat_minor": 0
}
