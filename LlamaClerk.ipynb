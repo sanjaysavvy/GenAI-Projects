{
 "cells": [
  {
   "cell_type": "code",
   "execution_count": null,
   "metadata": {
    "colab": {
     "base_uri": "https://localhost:8080/"
    },
    "id": "KFrpNw74wb-d",
    "outputId": "c1a2290b-d5eb-49d0-ece0-e71ed5a81fd5"
   },
   "outputs": [],
   "source": [
    "!pip install -U datasets transformers accelerate bitsandbytes peft"
   ]
  },
  {
   "cell_type": "code",
   "execution_count": null,
   "metadata": {
    "id": "08sqUOQev-KO"
   },
   "outputs": [],
   "source": [
    "from datasets import load_dataset\n",
    "\n",
    "# Login using e.g. `huggingface-cli login` to access this dataset\n",
    "df = load_dataset(\"SnehaDeshmukh/IndianBailJudgments-1200\")\n",
    "ds = df"
   ]
  },
  {
   "cell_type": "code",
   "execution_count": null,
   "metadata": {
    "id": "lXVSRbKsxHr9"
   },
   "outputs": [],
   "source": [
    "\n",
    "import pandas as pd\n",
    "df = pd.DataFrame(df)"
   ]
  },
  {
   "cell_type": "code",
   "execution_count": null,
   "metadata": {
    "colab": {
     "base_uri": "https://localhost:8080/",
     "height": 424
    },
    "id": "2ZuWzbTbxUr-",
    "outputId": "bf40626e-42c8-4984-d163-cb31c8843e7c"
   },
   "outputs": [],
   "source": [
    "df"
   ]
  },
  {
   "cell_type": "code",
   "execution_count": null,
   "metadata": {
    "id": "RJC0GTEYxw4k"
   },
   "outputs": [],
   "source": [
    "def format_for_finetune(example):\n",
    "    return {\n",
    "        \"text\": f\"\"\"### Instruction:\n",
    "Summarize the following Indian bail judgment.\n",
    "\n",
    "### Fact:\n",
    "{example['facts']}\n",
    "\n",
    "### Judgment:\n",
    "{example['judgment_reason']}\n",
    "\n",
    "### Summary:\n",
    "{example['summary']}\"\"\"\n",
    "    }"
   ]
  },
  {
   "cell_type": "code",
   "execution_count": null,
   "metadata": {
    "colab": {
     "base_uri": "https://localhost:8080/"
    },
    "id": "_Mpciclx1R0-",
    "outputId": "1bc8c42a-85f2-4171-9594-8a40bebae69d"
   },
   "outputs": [],
   "source": [
    "ds"
   ]
  },
  {
   "cell_type": "code",
   "execution_count": null,
   "metadata": {
    "colab": {
     "base_uri": "https://localhost:8080/",
     "height": 49,
     "referenced_widgets": [
      "5672bda186c6496990fa295e2f79c069",
      "e4f8cd31aeda40638d28eda41558a73c",
      "b771fa9fd1a74a279be38c1b5c27c4fb",
      "41739aa7995e4b9d8592d874ff9dbd38",
      "cc0e76184b344075a701cfea205b75fc",
      "27641f6ed6e148c3adf9c71297d05e18",
      "d29b1b09255946d59548d84e5c05b399",
      "0887e748b5bf455c95908a016a6c40e6",
      "4725235d9e444189a168ddb8d2474a2a",
      "ff507fd3bb9a4eec923938c32fd8bd1b",
      "06b864cf03da489186cee3b9e6e99c63"
     ]
    },
    "id": "iQC_vOnG1HDZ",
    "outputId": "95184d98-2a79-4f84-fc19-59d7da1b91e0"
   },
   "outputs": [],
   "source": [
    "formatted_dataset = ds['train'].map(format_for_finetune)"
   ]
  },
  {
   "cell_type": "code",
   "execution_count": null,
   "metadata": {
    "colab": {
     "base_uri": "https://localhost:8080/",
     "height": 67,
     "referenced_widgets": [
      "b95f504c44f943cba7241f327a7d2a82",
      "ce9e455c231748b68e65b85cc63517c9",
      "44802baafb3949dca2ce28abe4be6a56",
      "de874cfd9c844bf99a40008d75ec67f1",
      "10dd260bf73d4c02a7b747c629bc691c",
      "037fd97159dd4774be556e823f511601",
      "aff02315c2ab45c898736f3f8c744f4a",
      "8efb3ffda7c0417aafd79b154a9a0a47",
      "a0fdb560ef4649659c000793be677f56",
      "a5016a7202e14352b4c63f729327a56f",
      "cd7c141474c14e75a46cfb0d5cd1a135"
     ]
    },
    "id": "3ogEU4J41v7U",
    "outputId": "cf2633d0-b35c-4095-9f5d-1ec375a020f4"
   },
   "outputs": [],
   "source": [
    "formatted_dataset.to_json(\"indian_bail_judgments.jsonl\", orient=\"records\", lines=True)"
   ]
  },
  {
   "cell_type": "code",
   "execution_count": null,
   "metadata": {
    "id": "_6BBkPNz1z6H"
   },
   "outputs": [],
   "source": [
    "from datasets import load_dataset\n",
    "from transformers import AutoTokenizer, AutoModelForCausalLM, TrainingArguments\n",
    "from peft import LoraConfig, get_peft_model, prepare_model_for_kbit_training\n",
    "from trl import SFTTrainer\n",
    "import torch"
   ]
  },
  {
   "cell_type": "code",
   "execution_count": null,
   "metadata": {
    "colab": {
     "base_uri": "https://localhost:8080/",
     "height": 180
    },
    "id": "dFZiZm_01--W",
    "outputId": "7dcd9b8a-5710-4109-b26d-7fbb3df0cf5b"
   },
   "outputs": [],
   "source": [
    "model_name = \"NousResearch/Llama-2-7b-chat-hf\"\n",
    "tokenizer = AutoTokenizer.from_pretrained(model_name)\n",
    "tokenizer.pad_token = tokenizer.eos_token\n",
    "model = AutoModelForCausalLM.from_pretrained(model_name,\n",
    "                                             quantization_config=BitsAndBytes(\n",
    "                                                 load_in_4bit=True,\n",
    "                                                 bnb_4bit_compute_dtype=torch.float16,\n",
    "                                                 bnb_4bit_quant_type=\"nf4\",\n",
    "                                                 bnb_4bit_use_double_quant=True,\n",
    "                                                 device_map=\"Auto\"\n",
    "                                             ))"
   ]
  },
  {
   "cell_type": "code",
   "execution_count": null,
   "metadata": {
    "colab": {
     "base_uri": "https://localhost:8080/",
     "height": 144
    },
    "id": "JwEmVvCF2Qm9",
    "outputId": "3ba19471-0439-41c7-96e6-d67ac1493138"
   },
   "outputs": [],
   "source": [
    "model = prepare_model_for_kbit_training(model)\n",
    "\n",
    "lora_config = LoraConfig(\n",
    "    r=16,\n",
    "    lora_alpha=32,\n",
    "    target_modules=[\"query_key_value\"],\n",
    "    lora_dropout=0.05,\n",
    "    bias=\"none\",\n",
    "    task_type=\"CAUSAL_LM\"\n",
    ")\n",
    "\n",
    "model = get_peft_model(model,lora_config)"
   ]
  },
  {
   "cell_type": "code",
   "execution_count": null,
   "metadata": {
    "id": "OIIGY5LZ2oB5"
   },
   "outputs": [],
   "source": [
    "dataset = load_dataset(\"json\", data_files=\"indian_bail_judgments.jsonl\")[\"train\"]\n",
    "\n",
    "def formatting(example):\n",
    "    return f\"\"\"\n",
    "    ### Fact:\n",
    "    {example['facts']}\n",
    "\n",
    "    ### Judgment:\n",
    "    {example['judgment']}\n",
    "\n",
    "    ### Summary:\n",
    "    {example['summary']}\n",
    "    \"\"\"\n",
    "\n",
    "dataset = dataset.map(lambda x: {\"text\": formatting(x)})"
   ]
  },
  {
   "cell_type": "code",
   "execution_count": null,
   "metadata": {
    "id": "lApaCrLa23UG"
   },
   "outputs": [],
   "source": [
    "training_args = TrainingArguments(\n",
    "    output_dir=\"./llama-legal-lora\",\n",
    "    per_device_train_batch_size=2,\n",
    "    gradient_accumulation_steps=4,\n",
    "    logging_steps=10,\n",
    "    num_train_epochs=2,\n",
    "    learning_rate=2e-4,\n",
    "    fp16=True,\n",
    "    save_total_limit=2,\n",
    "    save_steps=100,\n",
    "    warmup_steps=10,\n",
    "    weight_decay=0.01,\n",
    "    lr_scheduler_type=\"cosine\"\n",
    ")"
   ]
  },
  {
   "cell_type": "code",
   "execution_count": null,
   "metadata": {
    "id": "oK8BMrFI243s"
   },
   "outputs": [],
   "source": [
    "trainer = SFTTrainer(\n",
    "    model=model,\n",
    "    tokenizer=tokenizer,\n",
    "    train_dataset=dataset,\n",
    "    dataset_text_field=\"text\",\n",
    "    args=training_args,\n",
    "    packing=True  # multiple examples per sequence\n",
    ")\n",
    "\n",
    "trainer.train()"
   ]
  },
  {
   "cell_type": "code",
   "execution_count": null,
   "metadata": {
    "id": "Etz84bB_26oF"
   },
   "outputs": [],
   "source": [
    "model.eval()\n",
    "\n",
    "prompt = \"\"\"\n",
    "### Fact:\n",
    "The accused was found in possession of illegal narcotics and attempted to flee arrest.\n",
    "\n",
    "### Judgment:\n",
    "\"\"\"\n",
    "\n",
    "inputs = tokenizer(prompt, return_tensors=\"pt\").to(\"cuda\")\n",
    "outputs = model.generate(**inputs, max_new_tokens=150)\n",
    "print(tokenizer.decode(outputs[0], skip_special_tokens=True))"
   ]
  },
  {
   "cell_type": "code",
   "execution_count": null,
   "metadata": {
    "id": "6hqZWocZ3Amq"
   },
   "outputs": [],
   "source": [
    "model.save_pretrained(\"llama2-lawyer-lora\")\n",
    "tokenizer.save_pretrained(\"llama2-lawyer-lora\")"
   ]
  }
 ],
 "metadata": {
  "accelerator": "GPU",
  "colab": {
   "gpuType": "T4",
   "provenance": []
  },
  "kernelspec": {
   "display_name": "Python 3",
   "name": "python3"
  },
  "language_info": {
   "name": "python"
  }
 },
 "nbformat": 4,
 "nbformat_minor": 0
}
